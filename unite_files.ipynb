{
 "cells": [
  {
   "cell_type": "code",
   "execution_count": 5,
   "metadata": {},
   "outputs": [
    {
     "name": "stdout",
     "output_type": "stream",
     "text": [
      "<_io.TextIOWrapper name='C:\\\\Projects\\\\Recipes\\\\1\\\\new_txt.txt' mode='a' encoding='utf-8'>\n"
     ]
    }
   ],
   "source": [
    "import os\n",
    "\n",
    "def unite_files():\n",
    "    os.chdir('C:\\Projects\\Recipes\\\\1')\n",
    "\n",
    "    list_of_files = []\n",
    "    dict = {}\n",
    "\n",
    "    for file in os.listdir():\n",
    "        f = open(file, encoding='utf-8')\n",
    "        name = file\n",
    "        content_of_files = f.readlines()\n",
    "        list_of_files.append(content_of_files)\n",
    "        len_of_files = len(content_of_files)\n",
    "        dict[name] = len_of_files, content_of_files\n",
    "        f.close()   \n",
    "\n",
    "    sorted_dict = sorted(dict.items(), key=lambda x: x[1])\n",
    "\n",
    "\n",
    "    for name, text in sorted_dict:\n",
    "        new_f = open('C:\\Projects\\Recipes\\\\1\\\\new_txt.txt', 'a', encoding='utf-8')\n",
    "        new_f.write(f\"{name}\\n\")\n",
    "        new_f.write(f\"{text[0]} строк\\n\")\n",
    "        new_f.write(f'{\"\".join(text[1])}\\n\\n')\n",
    "        new_f.close()\n",
    "    return new_f    \n",
    "\n",
    "print(unite_files())    \n",
    "    \n"
   ]
  },
  {
   "cell_type": "markdown",
   "metadata": {},
   "source": []
  }
 ],
 "metadata": {
  "interpreter": {
   "hash": "b89b5cfaba6639976dc87ff2fec6d58faec662063367e2c229c520fe71072417"
  },
  "kernelspec": {
   "display_name": "Python 3.10.0 64-bit",
   "language": "python",
   "name": "python3"
  },
  "language_info": {
   "codemirror_mode": {
    "name": "ipython",
    "version": 3
   },
   "file_extension": ".py",
   "mimetype": "text/x-python",
   "name": "python",
   "nbconvert_exporter": "python",
   "pygments_lexer": "ipython3",
   "version": "3.10.0"
  },
  "orig_nbformat": 4
 },
 "nbformat": 4,
 "nbformat_minor": 2
}
