{
 "cells": [
  {
   "cell_type": "code",
   "execution_count": 8,
   "metadata": {},
   "outputs": [
    {
     "name": "stdout",
     "output_type": "stream",
     "text": [
      "{'Омлет': [{'ingredient_name': 'Яйцо ', 'quantity': ' 2 ', 'measure': ' шт'}, {'ingredient_name': 'Молоко ', 'quantity': ' 100 ', 'measure': ' мл'}, {'ingredient_name': 'Помидор ', 'quantity': ' 2 ', 'measure': ' шт'}], 'Утка по-пекински': [{'ingredient_name': 'Утка ', 'quantity': ' 1 ', 'measure': ' шт'}, {'ingredient_name': 'Вода ', 'quantity': ' 2 ', 'measure': ' л'}, {'ingredient_name': 'Мед ', 'quantity': ' 3 ', 'measure': ' ст.л'}, {'ingredient_name': 'Соевый соус ', 'quantity': ' 60 ', 'measure': ' мл'}], 'Запеченный картофель': [{'ingredient_name': 'Картофель ', 'quantity': ' 1 ', 'measure': ' кг'}, {'ingredient_name': 'Чеснок ', 'quantity': ' 3 ', 'measure': ' зубч'}, {'ingredient_name': 'Сыр гауда ', 'quantity': ' 100 ', 'measure': ' г'}], 'Фахитос': [{'ingredient_name': 'Говядина ', 'quantity': ' 500 ', 'measure': ' г'}, {'ingredient_name': 'Перец сладкий ', 'quantity': ' 1 ', 'measure': ' шт'}, {'ingredient_name': 'Лаваш ', 'quantity': ' 2 ', 'measure': ' шт'}, {'ingredient_name': 'Винный уксус ', 'quantity': ' 1 ', 'measure': ' ст.л'}, {'ingredient_name': 'Помидор ', 'quantity': ' 2 ', 'measure': ' шт'}]}\n",
      "\n",
      "{'Картофель ': {'measure': ' кг', 'quantity': 2}, 'Чеснок ': {'measure': ' зубч', 'quantity': 6}, 'Сыр гауда ': {'measure': ' г', 'quantity': 200}, 'Яйцо ': {'measure': ' шт', 'quantity': 4}, 'Молоко ': {'measure': ' мл', 'quantity': 200}, 'Помидор ': {'measure': ' шт', 'quantity': 4}}\n"
     ]
    }
   ],
   "source": [
    "\n",
    "def my_cook_book():\n",
    "    cook_book = {}\n",
    "    with open('C:\\Projects\\Recipes\\Recipes.txt', encoding='utf-8') as f:\n",
    "        for lines in f.read().split('\\n\\n'):\n",
    "            line_list = lines.split('\\n')\n",
    "            name = line_list[0]\n",
    "            qt = int(line_list[1])\n",
    "            ingredients = line_list[2:qt+2]\n",
    "            ingredients_list = []\n",
    "            for ingredient in ingredients:\n",
    "                ingredient_name, quantity, measure = ingredient.split('|')\n",
    "                a = {'ingredient_name': ingredient_name, 'quantity': quantity, 'measure': measure}\n",
    "                ingredients_list.append(a)\n",
    "            cook_book[name] = ingredients_list   \n",
    "    return cook_book\n",
    "\n",
    "def get_shop_list_by_dishes(dishes, person_count):\n",
    "    cook_book = my_cook_book()\n",
    "    shop_list = {}\n",
    "    for dish in dishes:\n",
    "        if dish in cook_book:\n",
    "            ingredients_list = cook_book.get(dish)\n",
    "            for ingredient in ingredients_list:\n",
    "                ingredient_name = ingredient.get('ingredient_name')\n",
    "                measure = ingredient.get('measure')\n",
    "                quantity = ingredient.get('quantity')\n",
    "                if ingredient_name not in shop_list:\n",
    "                    shop_list[ingredient_name] = {'measure': measure, 'quantity': int(quantity) * person_count}\n",
    "                else:\n",
    "                    dict_ing = shop_list.get(ingredient_name)\n",
    "                    safe_quantity = int(dict_ing.get('quantity'))\n",
    "                    shop_list[ingredient_name] = {'measure': measure, 'quantity': int(quantity) * person_count + safe_quantity}                                 \n",
    "    return shop_list             \n",
    "\n",
    "                \n",
    "            \n",
    "\n",
    "\n",
    "\n",
    "\n",
    "print(my_cook_book())     \n",
    "print()\n",
    "print(get_shop_list_by_dishes(['Запеченный картофель', 'Омлет'], 2))   \n",
    "        \n"
   ]
  }
 ],
 "metadata": {
  "interpreter": {
   "hash": "b89b5cfaba6639976dc87ff2fec6d58faec662063367e2c229c520fe71072417"
  },
  "kernelspec": {
   "display_name": "Python 3.10.0 64-bit",
   "language": "python",
   "name": "python3"
  },
  "language_info": {
   "codemirror_mode": {
    "name": "ipython",
    "version": 3
   },
   "file_extension": ".py",
   "mimetype": "text/x-python",
   "name": "python",
   "nbconvert_exporter": "python",
   "pygments_lexer": "ipython3",
   "version": "3.10.0"
  },
  "orig_nbformat": 4
 },
 "nbformat": 4,
 "nbformat_minor": 2
}
